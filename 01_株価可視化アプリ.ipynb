{
 "cells": [
  {
   "cell_type": "code",
   "execution_count": 1,
   "id": "8e243d80-e8d1-4dd0-ba64-1de44dd65b16",
   "metadata": {},
   "outputs": [
    {
     "name": "stdout",
     "output_type": "stream",
     "text": [
      "Requirement already satisfied: altair in c:\\users\\katoh\\anaconda3\\envs\\web_app\\lib\\site-packages (4.1.0)\n",
      "Requirement already satisfied: entrypoints in c:\\users\\katoh\\anaconda3\\envs\\web_app\\lib\\site-packages (from altair) (0.3)\n",
      "Requirement already satisfied: toolz in c:\\users\\katoh\\anaconda3\\envs\\web_app\\lib\\site-packages (from altair) (0.11.1)\n",
      "Requirement already satisfied: jinja2 in c:\\users\\katoh\\anaconda3\\envs\\web_app\\lib\\site-packages (from altair) (3.0.1)\n",
      "Requirement already satisfied: pandas>=0.18 in c:\\users\\katoh\\anaconda3\\envs\\web_app\\lib\\site-packages (from altair) (1.2.4)\n",
      "Requirement already satisfied: numpy in c:\\users\\katoh\\anaconda3\\envs\\web_app\\lib\\site-packages (from altair) (1.20.3)\n",
      "Requirement already satisfied: jsonschema in c:\\users\\katoh\\anaconda3\\envs\\web_app\\lib\\site-packages (from altair) (3.2.0)\n",
      "Requirement already satisfied: python-dateutil>=2.7.3 in c:\\users\\katoh\\anaconda3\\envs\\web_app\\lib\\site-packages (from pandas>=0.18->altair) (2.8.1)\n",
      "Requirement already satisfied: pytz>=2017.3 in c:\\users\\katoh\\anaconda3\\envs\\web_app\\lib\\site-packages (from pandas>=0.18->altair) (2021.1)\n",
      "Requirement already satisfied: six>=1.5 in c:\\users\\katoh\\anaconda3\\envs\\web_app\\lib\\site-packages (from python-dateutil>=2.7.3->pandas>=0.18->altair) (1.16.0)\n",
      "Requirement already satisfied: MarkupSafe>=2.0 in c:\\users\\katoh\\anaconda3\\envs\\web_app\\lib\\site-packages (from jinja2->altair) (2.0.1)\n",
      "Requirement already satisfied: pyrsistent>=0.14.0 in c:\\users\\katoh\\anaconda3\\envs\\web_app\\lib\\site-packages (from jsonschema->altair) (0.17.3)\n",
      "Requirement already satisfied: attrs>=17.4.0 in c:\\users\\katoh\\anaconda3\\envs\\web_app\\lib\\site-packages (from jsonschema->altair) (21.2.0)\n",
      "Requirement already satisfied: setuptools in c:\\users\\katoh\\anaconda3\\envs\\web_app\\lib\\site-packages (from jsonschema->altair) (52.0.0.post20210125)\n"
     ]
    }
   ],
   "source": [
    "!pip install altair"
   ]
  },
  {
   "cell_type": "code",
   "execution_count": 2,
   "id": "aa383be0-44e6-420c-8d98-4a306696d33b",
   "metadata": {},
   "outputs": [],
   "source": [
    "import altair as alt"
   ]
  },
  {
   "cell_type": "code",
   "execution_count": null,
   "id": "c8b6fa72-36ab-488a-abd1-c3a755090b07",
   "metadata": {},
   "outputs": [],
   "source": [
    "df"
   ]
  },
  {
   "cell_type": "code",
   "execution_count": null,
   "id": "d2c696e7-2ff8-4418-a9df-e024d0a30ab2",
   "metadata": {},
   "outputs": [],
   "source": []
  },
  {
   "cell_type": "code",
   "execution_count": null,
   "id": "3b2eb42d-4b50-4a36-9447-40adebbb5516",
   "metadata": {},
   "outputs": [],
   "source": []
  }
 ],
 "metadata": {
  "kernelspec": {
   "display_name": "Python 3",
   "language": "python",
   "name": "python3"
  },
  "language_info": {
   "codemirror_mode": {
    "name": "ipython",
    "version": 3
   },
   "file_extension": ".py",
   "mimetype": "text/x-python",
   "name": "python",
   "nbconvert_exporter": "python",
   "pygments_lexer": "ipython3",
   "version": "3.8.10"
  }
 },
 "nbformat": 4,
 "nbformat_minor": 5
}
